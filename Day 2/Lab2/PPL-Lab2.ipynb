{
  "cells": [
    {
      "cell_type": "markdown",
      "metadata": {
        "id": "o46LGaiAa8y1"
      },
      "source": [
        "PPL-Lab2\n",
        "\n",
        "ParserGenerator\n",
        "\n",
        "Name: Vu Nhat Duy\n",
        "\n",
        "ID: ITITIU17047"
      ]
    },
    {
      "cell_type": "markdown",
      "metadata": {
        "id": "Uq2AQLrFbQN2"
      },
      "source": [
        "Install necessary library and connect to google drive"
      ]
    },
    {
      "cell_type": "code",
      "execution_count": 1,
      "metadata": {
        "colab": {
          "base_uri": "https://localhost:8080/"
        },
        "id": "Eg5NV5KWNQgz",
        "outputId": "ac694eab-29cc-4dca-d122-83f8f09f5479"
      },
      "outputs": [
        {
          "name": "stdout",
          "output_type": "stream",
          "text": [
            "Collecting antlr4-tools\n",
            "  Using cached antlr4_tools-0.2-py3-none-any.whl (4.1 kB)\n",
            "Collecting install-jdk\n",
            "  Using cached install_jdk-1.0.4-py3-none-any.whl (15 kB)\n",
            "Installing collected packages: install-jdk, antlr4-tools\n",
            "Successfully installed antlr4-tools-0.2 install-jdk-1.0.4\n"
          ]
        },
        {
          "name": "stderr",
          "output_type": "stream",
          "text": [
            "\n",
            "[notice] A new release of pip is available: 23.0.1 -> 23.1.2\n",
            "[notice] To update, run: C:\\Users\\Admin\\AppData\\Local\\Microsoft\\WindowsApps\\PythonSoftwareFoundation.Python.3.10_qbz5n2kfra8p0\\python.exe -m pip install --upgrade pip\n"
          ]
        },
        {
          "name": "stdout",
          "output_type": "stream",
          "text": [
            "Collecting antlr4-python3-runtime\n",
            "  Using cached antlr4_python3_runtime-4.13.0-py3-none-any.whl (144 kB)\n",
            "Installing collected packages: antlr4-python3-runtime\n",
            "Successfully installed antlr4-python3-runtime-4.13.0\n"
          ]
        },
        {
          "name": "stderr",
          "output_type": "stream",
          "text": [
            "\n",
            "[notice] A new release of pip is available: 23.0.1 -> 23.1.2\n",
            "[notice] To update, run: C:\\Users\\Admin\\AppData\\Local\\Microsoft\\WindowsApps\\PythonSoftwareFoundation.Python.3.10_qbz5n2kfra8p0\\python.exe -m pip install --upgrade pip\n"
          ]
        },
        {
          "ename": "ModuleNotFoundError",
          "evalue": "No module named 'google'",
          "output_type": "error",
          "traceback": [
            "\u001b[1;31m---------------------------------------------------------------------------\u001b[0m",
            "\u001b[1;31mModuleNotFoundError\u001b[0m                       Traceback (most recent call last)",
            "Cell \u001b[1;32mIn[1], line 4\u001b[0m\n\u001b[0;32m      2\u001b[0m get_ipython()\u001b[39m.\u001b[39msystem(\u001b[39m'\u001b[39m\u001b[39mpip install antlr4-python3-runtime\u001b[39m\u001b[39m'\u001b[39m)\n\u001b[0;32m      3\u001b[0m \u001b[39mimport\u001b[39;00m \u001b[39mos\u001b[39;00m\n\u001b[1;32m----> 4\u001b[0m \u001b[39mfrom\u001b[39;00m \u001b[39mgoogle\u001b[39;00m\u001b[39m.\u001b[39;00m\u001b[39mcolab\u001b[39;00m \u001b[39mimport\u001b[39;00m drive\n\u001b[0;32m      5\u001b[0m drive\u001b[39m.\u001b[39mmount(\u001b[39m'\u001b[39m\u001b[39m/content/drive\u001b[39m\u001b[39m'\u001b[39m)\n",
            "\u001b[1;31mModuleNotFoundError\u001b[0m: No module named 'google'"
          ]
        }
      ],
      "source": [
        "!pip install antlr4-tools\n",
        "!pip install antlr4-python3-runtime\n",
        "import os\n",
        "from google.colab import drive\n",
        "drive.mount('/content/drive')\n"
      ]
    },
    {
      "cell_type": "markdown",
      "metadata": {
        "id": "uPah3xLNbR28"
      },
      "source": [
        "Exercise 1:\n",
        "\n",
        "Go to LexerGenerator folder\n",
        "\n",
        "Run\n",
        "\n",
        "```\n",
        "!python gen.py Exercise1.g4\n",
        "```\n",
        "\n"
      ]
    },
    {
      "cell_type": "code",
      "execution_count": 19,
      "metadata": {
        "id": "4wGqxjUqU9EM"
      },
      "outputs": [],
      "source": [
        "os.chdir('/content/drive/MyDrive/Lab/Day 2/Parser/LexerGenerator')\n",
        "!python gen.py Exercise1.g4"
      ]
    },
    {
      "cell_type": "markdown",
      "metadata": {
        "id": "KR-AByYwXf15"
      },
      "source": [
        "Go to Final Program\n",
        "\n",
        "Run test case 1.1\n",
        "\n",
        "\n",
        "```\n",
        "!python run_Exercise1.py testcase1.1.txt\n",
        "```\n",
        "\n",
        "\n",
        "\n",
        "testcase1.1.txt\n",
        "\n",
        "35 + 47\n",
        "\n",
        "7 + 9 + a\n",
        "\n",
        "13 - 2\n",
        "\n",
        "11 - 2 - 2"
      ]
    },
    {
      "cell_type": "code",
      "execution_count": 20,
      "metadata": {
        "colab": {
          "base_uri": "https://localhost:8080/"
        },
        "id": "d4jhZF8oWxOh",
        "outputId": "99259beb-3b07-45af-a400-ecc7ad96919a"
      },
      "outputs": [
        {
          "name": "stdout",
          "output_type": "stream",
          "text": [
            "successful\n"
          ]
        }
      ],
      "source": [
        "os.chdir('/content/drive/MyDrive/Lab/Day 2/Parser/FinalProgram')\n",
        "!python run_Exercise1.py testcase1.1.txt"
      ]
    },
    {
      "cell_type": "markdown",
      "metadata": {
        "id": "FrGo9WydYq_w"
      },
      "source": [
        "Go to Final Program\n",
        "\n",
        "Run test case 1.2\n",
        "\n",
        "\n",
        "```\n",
        "!python run_Exercise1.py testcase1.2.txt\n",
        "```\n",
        "\n",
        "testcase1.2.txt\n",
        "\n",
        "35 + 47\n",
        "\n",
        "7 + 9 + a\n",
        "\n",
        "13 - 2\n",
        "\n",
        "11 * 2 / 2\n",
        "\n"
      ]
    },
    {
      "cell_type": "code",
      "execution_count": 28,
      "metadata": {
        "colab": {
          "base_uri": "https://localhost:8080/"
        },
        "id": "ZqC0aFHiZasv",
        "outputId": "8a7044d5-0dbc-4bc1-8047-deeb769699f7"
      },
      "outputs": [
        {
          "name": "stdout",
          "output_type": "stream",
          "text": [
            "*\n"
          ]
        }
      ],
      "source": [
        "os.chdir('/content/drive/MyDrive/Lab/Day 2/Parser/FinalProgram')\n",
        "!python run_Exercise1.py testcase1.2.txt"
      ]
    },
    {
      "cell_type": "markdown",
      "metadata": {
        "id": "1CDefEmYciGF"
      },
      "source": [
        "Exercise 2:\n",
        "\n",
        "Go to LexerGenerator folder\n",
        "\n",
        "Run\n",
        "\n",
        "```\n",
        "!python gen.py Exercise2.g4\n",
        "```\n",
        "\n"
      ]
    },
    {
      "cell_type": "code",
      "execution_count": 23,
      "metadata": {
        "id": "MIc0pEKhZrUW"
      },
      "outputs": [],
      "source": [
        "os.chdir('/content/drive/MyDrive/Lab/Day 2/Parser/LexerGenerator')\n",
        "!python gen.py Exercise2.g4"
      ]
    },
    {
      "cell_type": "markdown",
      "metadata": {
        "id": "WKwh10V3c4Sa"
      },
      "source": [
        "Go to Final Program\n",
        "\n",
        "Run test case 2.1\n",
        "\n",
        "\n",
        "```\n",
        "!python run_Exercise1.py testcase2.1.txt\n",
        "```\n",
        "\n",
        "testcase2.1.txt\n",
        "\n",
        "35 + 47\n",
        "\n",
        "7 + 9 + a\n",
        "\n",
        "13 - 2\n",
        "\n",
        "11 - 2 - 2\n",
        "\n",
        "a * b\n",
        "\n",
        "a * b / c + d - e"
      ]
    },
    {
      "cell_type": "code",
      "execution_count": 30,
      "metadata": {
        "colab": {
          "base_uri": "https://localhost:8080/"
        },
        "id": "d1ZnJfvzaLgb",
        "outputId": "dac37202-3148-4718-c38e-c6ae7cd42ef1"
      },
      "outputs": [
        {
          "name": "stdout",
          "output_type": "stream",
          "text": [
            "successful\n"
          ]
        }
      ],
      "source": [
        "os.chdir('/content/drive/MyDrive/Lab/Day 2/Parser/FinalProgram')\n",
        "!python run_Exercise2.py testcase2.1.txt"
      ]
    },
    {
      "cell_type": "markdown",
      "metadata": {
        "id": "ghlPEgINaSL0"
      },
      "source": [
        "Go to Final Program\n",
        "\n",
        "Run test case 2.2\n",
        "\n",
        "\n",
        "```\n",
        "!python run_Exercise1.py testcase2.2.txt\n",
        "```\n",
        "\n",
        "testcase2.2.txt\n",
        "\n",
        "35 + + 47\n",
        "\n",
        "7 + 9 + a\n",
        "\n",
        "13 - 2\n",
        "\n",
        "11 - 2 - 2\n",
        "\n",
        "a * b\n",
        "\n",
        "a * b / c + d - e + ( b - c )"
      ]
    },
    {
      "cell_type": "code",
      "execution_count": 29,
      "metadata": {
        "colab": {
          "base_uri": "https://localhost:8080/"
        },
        "id": "iXoeY6xnawcU",
        "outputId": "c04f22db-3458-49cb-9af6-fd0716bbca00"
      },
      "outputs": [
        {
          "name": "stdout",
          "output_type": "stream",
          "text": [
            "line 1:5 extraneous input '+' expecting {Integer, Id}\n",
            "(\n"
          ]
        }
      ],
      "source": [
        "os.chdir('/content/drive/MyDrive/Lab/Day 2/Parser/FinalProgram')\n",
        "!python run_Exercise2.py testcase2.2.txt"
      ]
    }
  ],
  "metadata": {
    "colab": {
      "provenance": []
    },
    "kernelspec": {
      "display_name": "Python 3",
      "name": "python3"
    },
    "language_info": {
      "codemirror_mode": {
        "name": "ipython",
        "version": 3
      },
      "file_extension": ".py",
      "mimetype": "text/x-python",
      "name": "python",
      "nbconvert_exporter": "python",
      "pygments_lexer": "ipython3",
      "version": "3.10.11"
    }
  },
  "nbformat": 4,
  "nbformat_minor": 0
}
