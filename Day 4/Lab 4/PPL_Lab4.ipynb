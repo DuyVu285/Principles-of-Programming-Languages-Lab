{
  "nbformat": 4,
  "nbformat_minor": 0,
  "metadata": {
    "colab": {
      "provenance": []
    },
    "kernelspec": {
      "name": "python3",
      "display_name": "Python 3"
    },
    "language_info": {
      "name": "python"
    }
  },
  "cells": [
    {
      "cell_type": "markdown",
      "source": [
        "PPL-Lab4\n",
        "\n",
        "CodeRunner\n",
        "\n",
        "Name: Vu Nhat Duy\n",
        "\n",
        "ID: ITITIU17047"
      ],
      "metadata": {
        "id": "o46LGaiAa8y1"
      }
    },
    {
      "cell_type": "markdown",
      "source": [
        "Install necessary library and connect to google drive"
      ],
      "metadata": {
        "id": "Uq2AQLrFbQN2"
      }
    },
    {
      "cell_type": "code",
      "execution_count": 1,
      "metadata": {
        "colab": {
          "base_uri": "https://localhost:8080/"
        },
        "id": "Eg5NV5KWNQgz",
        "outputId": "f124726e-a245-46ca-8814-2633e38c57cb"
      },
      "outputs": [
        {
          "output_type": "stream",
          "name": "stdout",
          "text": [
            "Collecting antlr4-tools\n",
            "  Downloading antlr4_tools-0.2-py3-none-any.whl (4.1 kB)\n",
            "Collecting install-jdk (from antlr4-tools)\n",
            "  Downloading install_jdk-1.1.0-py3-none-any.whl (15 kB)\n",
            "Installing collected packages: install-jdk, antlr4-tools\n",
            "Successfully installed antlr4-tools-0.2 install-jdk-1.1.0\n",
            "Collecting antlr4-python3-runtime\n",
            "  Downloading antlr4_python3_runtime-4.13.0-py3-none-any.whl (144 kB)\n",
            "\u001b[2K     \u001b[90m━━━━━━━━━━━━━━━━━━━━━━━━━━━━━━━━━━━━━━━\u001b[0m \u001b[32m144.5/144.5 kB\u001b[0m \u001b[31m1.9 MB/s\u001b[0m eta \u001b[36m0:00:00\u001b[0m\n",
            "\u001b[?25hInstalling collected packages: antlr4-python3-runtime\n",
            "Successfully installed antlr4-python3-runtime-4.13.0\n",
            "Mounted at /content/drive\n"
          ]
        }
      ],
      "source": [
        "!pip install antlr4-tools\n",
        "!pip install antlr4-python3-runtime\n",
        "import os\n",
        "from google.colab import drive\n",
        "drive.mount('/content/drive')\n"
      ]
    },
    {
      "cell_type": "markdown",
      "source": [
        "Exercise 1:\n",
        "\n",
        "Go to Code_Runner_Exercise_1 folder/LanguageGenerator\n",
        "\n",
        "Run\n",
        "\n",
        "```\n",
        "!python gen.py Exercise1.g4\n",
        "```\n",
        "\n"
      ],
      "metadata": {
        "id": "uPah3xLNbR28"
      }
    },
    {
      "cell_type": "code",
      "source": [
        "os.chdir('/content/drive/MyDrive/Lab/Day 4/Lab 4/CodeRunner_Exercise_1/LanguageGenerator')\n",
        "!python gen.py Exercise1.g4"
      ],
      "metadata": {
        "id": "4wGqxjUqU9EM"
      },
      "execution_count": 13,
      "outputs": []
    },
    {
      "cell_type": "markdown",
      "source": [
        "Go to Final Program\n",
        "\n",
        "Run testcase.txt\n",
        "\n",
        "\n",
        "```\n",
        "!python run.py testcase.txt\n",
        "```\n",
        "\n",
        "\n",
        "\n",
        "testcase.txt\n",
        "\n",
        "35 / 7 - 47 + 89  * 8"
      ],
      "metadata": {
        "id": "KR-AByYwXf15"
      }
    },
    {
      "cell_type": "code",
      "source": [
        "os.chdir('/content/drive/MyDrive/Lab/Day 4/Lab 4/CodeRunner_Exercise_1/FinalProgram')\n",
        "!python run.py testcase.txt"
      ],
      "metadata": {
        "colab": {
          "base_uri": "https://localhost:8080/"
        },
        "id": "d4jhZF8oWxOh",
        "outputId": "420a980b-88ca-49cd-a2c2-975453bb5700"
      },
      "execution_count": 26,
      "outputs": [
        {
          "output_type": "stream",
          "name": "stdout",
          "text": [
            "AST Tree: Prog(BinOp(\"+\",BinOp(\"-\",BinOp(\"/\",Int(35),Int(7)),Int(47)),BinOp(\"*\",Int(89),Int(8))))\n",
            "Result: 670.0\n"
          ]
        }
      ]
    },
    {
      "cell_type": "markdown",
      "source": [
        "Exercise 2:\n",
        "\n",
        "Go to Code_Runner_Exercise_2 folder/LanguageGenerator\n",
        "\n",
        "Run\n",
        "\n",
        "```\n",
        "!python gen.py Exercise2.g4\n",
        "```\n",
        "\n"
      ],
      "metadata": {
        "id": "tNfQ8WxqmRlW"
      }
    },
    {
      "cell_type": "code",
      "source": [
        "os.chdir('/content/drive/MyDrive/Lab/Day 4/Lab 4/CodeRunner_Exercise_2/LanguageGenerator')\n",
        "!python gen.py Exercise2.g4"
      ],
      "metadata": {
        "id": "uR_S4cQfmV-h"
      },
      "execution_count": 15,
      "outputs": []
    },
    {
      "cell_type": "markdown",
      "source": [
        "Go to Final Program\n",
        "\n",
        "Run testcase.txt\n",
        "\n",
        "\n",
        "```\n",
        "!python run.py testcase.txt\n",
        "```\n",
        "\n",
        "\n",
        "\n",
        "testcase.txt\n",
        "\n",
        "35 / 7 - 47 + 89  * 8"
      ],
      "metadata": {
        "id": "Tg1pZBE2mdHR"
      }
    },
    {
      "cell_type": "code",
      "source": [
        "os.chdir('/content/drive/MyDrive/Lab/Day 4/Lab 4/CodeRunner_Exercise_2/FinalProgram')\n",
        "!python run.py testcase.txt"
      ],
      "metadata": {
        "colab": {
          "base_uri": "https://localhost:8080/"
        },
        "outputId": "c9dd7a45-bafd-441c-92d8-f2bd4dd30628",
        "id": "wROFoX8XmfO0"
      },
      "execution_count": 25,
      "outputs": [
        {
          "output_type": "stream",
          "name": "stdout",
          "text": [
            "AST Tree: Prog(BinOp(\"-\",BinOp(\"/\",Int(35),Int(7)),BinOp(\"+\",Int(47),BinOp(\"*\",Int(89),Int(8)))))\n",
            "Result: -754.0\n"
          ]
        }
      ]
    },
    {
      "cell_type": "markdown",
      "source": [
        "Exercise 3:\n",
        "\n",
        "Go to Code_Runner_Exercise_3 folder/LanguageGenerator\n",
        "\n",
        "Run\n",
        "\n",
        "```\n",
        "!python gen.py Exercise3.g4\n",
        "```\n",
        "\n"
      ],
      "metadata": {
        "id": "c1u1vZhEnLRO"
      }
    },
    {
      "cell_type": "code",
      "source": [
        "os.chdir('/content/drive/MyDrive/Lab/Day 4/Lab 4/CodeRunner_Exercise_3/LanguageGenerator')\n",
        "!python gen.py Exercise3.g4"
      ],
      "metadata": {
        "id": "lIjgg9DQnPrl"
      },
      "execution_count": 19,
      "outputs": []
    },
    {
      "cell_type": "markdown",
      "source": [
        "Go to Final Program\n",
        "\n",
        "Run testcase.txt\n",
        "\n",
        "\n",
        "```\n",
        "!python run.py testcase.txt\n",
        "```\n",
        "\n",
        "\n",
        "\n",
        "testcase.txt\n",
        "\n",
        "35 / 7 - 47 + 89  * 8"
      ],
      "metadata": {
        "id": "HgifxfyengP3"
      }
    },
    {
      "cell_type": "code",
      "source": [
        "os.chdir('/content/drive/MyDrive/Lab/Day 4/Lab 4/CodeRunner_Exercise_3/FinalProgram')\n",
        "!python run.py testcase.txt"
      ],
      "metadata": {
        "colab": {
          "base_uri": "https://localhost:8080/"
        },
        "outputId": "68ab5178-1cb0-42dc-deec-af579c78cc05",
        "id": "FUsqAXhBni1k"
      },
      "execution_count": 27,
      "outputs": [
        {
          "output_type": "stream",
          "name": "stdout",
          "text": [
            "AST Tree: Prog(BinOp(\"-\",BinOp(\"/\",Int(35),Int(7)),BinOp(\"+\",Int(47),BinOp(\"*\",Int(89),Int(8)))))\n",
            "Result: -754.0\n"
          ]
        }
      ]
    },
    {
      "cell_type": "markdown",
      "source": [
        "\n",
        "Run testcase2.txt\n",
        "\n",
        "\n",
        "```\n",
        "!python run.py testcase2.txt\n",
        "```\n",
        "\n",
        "\n",
        "\n",
        "testcase2.txt\n",
        "\n",
        "35 / 7 + - 47 + 89  * 8"
      ],
      "metadata": {
        "id": "2RqSxU7hz17L"
      }
    },
    {
      "cell_type": "code",
      "source": [
        "os.chdir('/content/drive/MyDrive/Lab/Day 4/Lab 4/CodeRunner_Exercise_3/FinalProgram')\n",
        "!python run.py testcase2.txt"
      ],
      "metadata": {
        "colab": {
          "base_uri": "https://localhost:8080/"
        },
        "outputId": "9b977ffe-62c9-4416-cf6a-dc697400aaf7",
        "id": "Hhxwqrv50PSY"
      },
      "execution_count": 28,
      "outputs": [
        {
          "output_type": "stream",
          "name": "stdout",
          "text": [
            "AST Tree: Prog(BinOp(\"+\",BinOp(\"/\",Int(35),Int(7)),BinOp(\"+\",BinOp(\"-\",Int(0),Int(47)),BinOp(\"*\",Int(89),Int(8)))))\n",
            "Result: 670.0\n"
          ]
        }
      ]
    }
  ]
}