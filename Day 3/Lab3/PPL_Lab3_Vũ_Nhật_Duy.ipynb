{
  "nbformat": 4,
  "nbformat_minor": 0,
  "metadata": {
    "colab": {
      "provenance": []
    },
    "kernelspec": {
      "name": "python3",
      "display_name": "Python 3"
    },
    "language_info": {
      "name": "python"
    }
  },
  "cells": [
    {
      "cell_type": "markdown",
      "source": [
        "PPL-Lab3\n",
        "\n",
        "AST\n",
        "\n",
        "Name: Vu Nhat Duy\n",
        "\n",
        "ID: ITITIU17047"
      ],
      "metadata": {
        "id": "o46LGaiAa8y1"
      }
    },
    {
      "cell_type": "markdown",
      "source": [
        "Install necessary library and connect to google drive"
      ],
      "metadata": {
        "id": "0fRV93qEjYQo"
      }
    },
    {
      "cell_type": "code",
      "execution_count": 1,
      "metadata": {
        "colab": {
          "base_uri": "https://localhost:8080/"
        },
        "id": "Eg5NV5KWNQgz",
        "outputId": "4409e4fe-4bb5-41a0-afae-96a0cde48537"
      },
      "outputs": [
        {
          "output_type": "stream",
          "name": "stdout",
          "text": [
            "Collecting antlr4-tools\n",
            "  Downloading antlr4_tools-0.2-py3-none-any.whl (4.1 kB)\n",
            "Collecting install-jdk (from antlr4-tools)\n",
            "  Downloading install_jdk-1.0.4-py3-none-any.whl (15 kB)\n",
            "Installing collected packages: install-jdk, antlr4-tools\n",
            "Successfully installed antlr4-tools-0.2 install-jdk-1.0.4\n",
            "Collecting antlr4-python3-runtime\n",
            "  Downloading antlr4_python3_runtime-4.13.0-py3-none-any.whl (144 kB)\n",
            "\u001b[2K     \u001b[90m━━━━━━━━━━━━━━━━━━━━━━━━━━━━━━━━━━━━━━━\u001b[0m \u001b[32m144.5/144.5 kB\u001b[0m \u001b[31m1.4 MB/s\u001b[0m eta \u001b[36m0:00:00\u001b[0m\n",
            "\u001b[?25hInstalling collected packages: antlr4-python3-runtime\n",
            "Successfully installed antlr4-python3-runtime-4.13.0\n",
            "Mounted at /content/drive\n"
          ]
        }
      ],
      "source": [
        "!pip install antlr4-tools\n",
        "!pip install antlr4-python3-runtime\n",
        "import os\n",
        "from google.colab import drive\n",
        "drive.mount('/content/drive')\n"
      ]
    },
    {
      "cell_type": "markdown",
      "source": [
        "Exercise 1:\n",
        "\n",
        "Go to LanguageGenerator folder in AST_Exercise_1\n",
        "\n",
        "Run\n",
        "\n",
        "```\n",
        "!python gen.py Exercise1.g4\n",
        "```\n",
        "\n"
      ],
      "metadata": {
        "id": "uPah3xLNbR28"
      }
    },
    {
      "cell_type": "code",
      "source": [
        "os.chdir('/content/drive/MyDrive/Lab/Day 3/Lab3/AST_Exercise_1/LanguageGenerator')\n",
        "!python gen.py Exercise1.g4"
      ],
      "metadata": {
        "id": "4wGqxjUqU9EM",
        "colab": {
          "base_uri": "https://localhost:8080/"
        },
        "outputId": "ed908ebb-99d4-4dba-9c24-618e7dc90339"
      },
      "execution_count": 2,
      "outputs": [
        {
          "output_type": "stream",
          "name": "stdout",
          "text": [
            "Downloading antlr4-4.13.0-complete.jar\n"
          ]
        }
      ]
    },
    {
      "cell_type": "markdown",
      "source": [
        "Go to Final Program Folder in AST_Exercise_1\n",
        "\n",
        "Run test case\n",
        "\n",
        "\n",
        "```\n",
        "!python run.py testcase.txt\n",
        "```\n",
        "\n",
        "\n",
        "\n",
        "testcase.txt\n",
        "\n",
        "3 + 5\n",
        "\n",
        "3 - 2\n",
        "\n",
        "2 * 4\n",
        "\n",
        "4 / 2\n",
        "\n",
        "3 + 5 - 2\n",
        "\n",
        "3 + 2 * 5"
      ],
      "metadata": {
        "id": "KR-AByYwXf15"
      }
    },
    {
      "cell_type": "code",
      "source": [
        "os.chdir('/content/drive/MyDrive/Lab/Day 3/Lab3/AST_Exercise_1/FinalProgram')\n",
        "!python run.py testcase.txt"
      ],
      "metadata": {
        "colab": {
          "base_uri": "https://localhost:8080/"
        },
        "outputId": "f4edd44e-5e1c-44f1-df1d-1f2c67c96c87",
        "id": "1wy61BrAkdGD"
      },
      "execution_count": 3,
      "outputs": [
        {
          "output_type": "stream",
          "name": "stdout",
          "text": [
            "Prog(BinOp(\"+\",INT,INT),BinOp(\"-\",INT,INT),BinOp(\"*\",INT,INT),BinOp(\"/\",INT,INT),BinOp(\"-\",BinOp(\"+\",INT,INT),INT),BinOp(\"+\",INT,BinOp(\"*\",INT,INT)))\n"
          ]
        }
      ]
    },
    {
      "cell_type": "markdown",
      "source": [
        "Exercise 2:\n",
        "\n",
        "Go to LanguageGenerator folder in AST_Exercise_2\n",
        "\n",
        "Run\n",
        "\n",
        "```\n",
        "!python gen.py Exercise2.g4\n",
        "```\n",
        "\n"
      ],
      "metadata": {
        "id": "ivw8yNHgmWPw"
      }
    },
    {
      "cell_type": "code",
      "source": [
        "os.chdir('/content/drive/MyDrive/Lab/Day 3/Lab3/AST_Exercise_2/LanguageGenerator')\n",
        "!python gen.py Exercise2.g4"
      ],
      "metadata": {
        "id": "eYfWul0angtF"
      },
      "execution_count": 4,
      "outputs": []
    },
    {
      "cell_type": "markdown",
      "source": [
        "Go to Final Program Folder in AST_Exercise_2\n",
        "\n",
        "Run test case\n",
        "\n",
        "\n",
        "```\n",
        "!python run.py testcase.txt\n",
        "```\n",
        "\n",
        "\n",
        "\n",
        "testcase.txt\n",
        "\n",
        "int a, b, c;\n",
        "\n",
        "float x;"
      ],
      "metadata": {
        "id": "jvTiADwPnsKh"
      }
    },
    {
      "cell_type": "code",
      "source": [
        "os.chdir('/content/drive/MyDrive/Lab/Day 3/Lab3/AST_Exercise_2/FinalProgram')\n",
        "!python run.py testcase.txt"
      ],
      "metadata": {
        "colab": {
          "base_uri": "https://localhost:8080/"
        },
        "outputId": "fbabe7cc-7142-4fde-dbbd-8e1c8a7df491",
        "id": "hQJ0X5h3nziJ"
      },
      "execution_count": 5,
      "outputs": [
        {
          "output_type": "stream",
          "name": "stdout",
          "text": [
            "Prog(IntStatement([a,b,c]),FloatStatement([x]))\n"
          ]
        }
      ]
    }
  ]
}